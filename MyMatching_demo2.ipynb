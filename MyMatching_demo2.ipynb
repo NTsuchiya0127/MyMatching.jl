{
 "cells": [
  {
   "cell_type": "code",
   "execution_count": 1,
   "metadata": {
    "collapsed": true
   },
   "outputs": [],
   "source": [
    "using MyMatching"
   ]
  },
  {
   "cell_type": "markdown",
   "metadata": {},
   "source": [
    "まずは普通に。Wikipediaの例。"
   ]
  },
  {
   "cell_type": "code",
   "execution_count": 2,
   "metadata": {},
   "outputs": [
    {
     "data": {
      "text/plain": [
       "([1, 3, 2, 4], [1, 3, 2, 4])"
      ]
     },
     "execution_count": 2,
     "metadata": {},
     "output_type": "execute_result"
    }
   ],
   "source": [
    "# 例-01\n",
    "prop_prefs = [[1, 2, 3, 4], [3, 2, 1, 4], [1, 2, 4, 3], [3, 1, 4, 2]]\n",
    "resp_prefs = [[1, 2, 3, 4], [2, 1, 4, 3], [2, 3, 1, 4], [1, 4, 3, 2]]\n",
    "my_deferred_acceptance(prop_prefs, resp_prefs)"
   ]
  },
  {
   "cell_type": "markdown",
   "metadata": {},
   "source": [
    "提案を入れ替えてみる。"
   ]
  },
  {
   "cell_type": "code",
   "execution_count": 3,
   "metadata": {},
   "outputs": [
    {
     "data": {
      "text/plain": [
       "([1, 3, 2, 4], [1, 3, 2, 4])"
      ]
     },
     "execution_count": 3,
     "metadata": {},
     "output_type": "execute_result"
    }
   ],
   "source": [
    "resp_prefs = [[1, 2, 3, 4], [3, 2, 1, 4], [1, 2, 4, 3], [3, 1, 4, 2]]\n",
    "prop_prefs = [[1, 2, 3, 4], [2, 1, 4, 3], [2, 3, 1, 4], [1, 4, 3, 2]]\n",
    "my_deferred_acceptance(prop_prefs, resp_prefs)"
   ]
  },
  {
   "cell_type": "markdown",
   "metadata": {},
   "source": [
    "この例では提案するのを男女入れ替えても一致する。"
   ]
  },
  {
   "cell_type": "markdown",
   "metadata": {},
   "source": [
    "では、次のような少しいじった例を考える。"
   ]
  },
  {
   "cell_type": "code",
   "execution_count": 4,
   "metadata": {},
   "outputs": [
    {
     "data": {
      "text/plain": [
       "([1, 3, 2, 4], [1, 3, 2, 4])"
      ]
     },
     "execution_count": 4,
     "metadata": {},
     "output_type": "execute_result"
    }
   ],
   "source": [
    "# 例-02\n",
    "prop_prefs = [[1, 2, 3, 4], [3, 2, 1, 4], [1, 2, 4, 3], [4, 1, 3, 2]]\n",
    "resp_prefs = [[1, 2, 3, 4], [2, 1, 4, 3], [3, 2, 1, 4], [1, 4, 3, 2]]\n",
    "my_deferred_acceptance(prop_prefs, resp_prefs)"
   ]
  },
  {
   "cell_type": "markdown",
   "metadata": {},
   "source": [
    "提案を入れ替えてみる。"
   ]
  },
  {
   "cell_type": "code",
   "execution_count": 5,
   "metadata": {},
   "outputs": [
    {
     "data": {
      "text/plain": [
       "([1, 2, 3, 4], [1, 2, 3, 4])"
      ]
     },
     "execution_count": 5,
     "metadata": {},
     "output_type": "execute_result"
    }
   ],
   "source": [
    "resp_prefs = [[1, 2, 3, 4], [3, 2, 1, 4], [1, 2, 4, 3], [4, 1, 3, 2]]\n",
    "prop_prefs = [[1, 2, 3, 4], [2, 1, 4, 3], [3, 2, 1, 4], [1, 4, 3, 2]]\n",
    "my_deferred_acceptance(prop_prefs, resp_prefs)"
   ]
  },
  {
   "cell_type": "markdown",
   "metadata": {},
   "source": [
    "提案を入れ替えると、最適なマッチングが変わる。\n",
    "\n",
    "つまり、この例では男の立場からすると(1, 3, 2, 4)とマッチングするのが最適だが、女の立場からすると(1, 2, 3, 4)とマッチングするのが最適。"
   ]
  },
  {
   "cell_type": "markdown",
   "metadata": {},
   "source": [
    "ここで、次のようなことを考えよう。\n",
    "\n",
    "ある個人について、選好のn番目の人とマッチングした時の不幸度をnとする。但し、マッチングされなかった場合は(選好の長さ)+1とする。\n",
    "\n",
    "人々の不幸度の合計が最小になるような状態を考えたい。"
   ]
  },
  {
   "cell_type": "code",
   "execution_count": 6,
   "metadata": {},
   "outputs": [
    {
     "data": {
      "text/plain": [
       "([1, 3, 2, 4], [1, 3, 2, 4])"
      ]
     },
     "execution_count": 6,
     "metadata": {},
     "output_type": "execute_result"
    }
   ],
   "source": [
    "prop_prefs = [[1, 2, 3, 4], [3, 2, 1, 4], [1, 2, 4, 3], [4, 1, 3, 2]]\n",
    "resp_prefs = [[1, 2, 3, 4], [2, 1, 4, 3], [3, 2, 1, 4], [1, 4, 3, 2]]\n",
    "prop_matched, resp_matched = my_deferred_acceptance(prop_prefs, resp_prefs)"
   ]
  },
  {
   "cell_type": "code",
   "execution_count": 7,
   "metadata": {},
   "outputs": [
    {
     "data": {
      "text/plain": [
       "4-element Array{Int64,1}:\n",
       " 1\n",
       " 1\n",
       " 2\n",
       " 1"
      ]
     },
     "execution_count": 7,
     "metadata": {},
     "output_type": "execute_result"
    }
   ],
   "source": [
    "m = length(prop_prefs)\n",
    "prop_uf = Vector{Int64}(m)\n",
    "\n",
    "c = 1\n",
    "while c <= length(prop_prefs)\n",
    "    if prop_matched[c] == 0\n",
    "        prop_uf[c] = length(prop_prefs[c])+1\n",
    "    else\n",
    "        prop_uf[c] = findfirst(prop_prefs[c], prop_matched[c])\n",
    "    end\n",
    "    c += 1\n",
    "end\n",
    "\n",
    "prop_uf"
   ]
  },
  {
   "cell_type": "code",
   "execution_count": 8,
   "metadata": {},
   "outputs": [
    {
     "data": {
      "text/plain": [
       "4-element Array{Int64,1}:\n",
       " 1\n",
       " 4\n",
       " 2\n",
       " 2"
      ]
     },
     "execution_count": 8,
     "metadata": {},
     "output_type": "execute_result"
    }
   ],
   "source": [
    "n = length(resp_prefs)\n",
    "resp_uf = Vector{Int64}(n)\n",
    "\n",
    "d = 1\n",
    "while d <= length(resp_prefs)\n",
    "    if resp_matched[d] == 0\n",
    "        resp_uf[d] = length(resp_prefs[d])+1\n",
    "    else\n",
    "        resp_uf[d] = findfirst(resp_prefs[d], resp_matched[d])\n",
    "    end\n",
    "    d += 1\n",
    "end\n",
    "\n",
    "resp_uf"
   ]
  },
  {
   "cell_type": "code",
   "execution_count": 9,
   "metadata": {},
   "outputs": [
    {
     "data": {
      "text/plain": [
       "5"
      ]
     },
     "execution_count": 9,
     "metadata": {},
     "output_type": "execute_result"
    }
   ],
   "source": [
    "sum(prop_uf[1:end])"
   ]
  },
  {
   "cell_type": "code",
   "execution_count": 10,
   "metadata": {},
   "outputs": [
    {
     "data": {
      "text/plain": [
       "9"
      ]
     },
     "execution_count": 10,
     "metadata": {},
     "output_type": "execute_result"
    }
   ],
   "source": [
    "sum(resp_uf[1:end])"
   ]
  },
  {
   "cell_type": "markdown",
   "metadata": {},
   "source": [
    "となるから、男側の不幸度の合計は5、女性側の不幸度の合計は9、全体としての不幸度は14である。"
   ]
  },
  {
   "cell_type": "markdown",
   "metadata": {},
   "source": [
    "一方、提案を入れ替えた場合、"
   ]
  },
  {
   "cell_type": "code",
   "execution_count": 11,
   "metadata": {},
   "outputs": [
    {
     "data": {
      "text/plain": [
       "([1, 2, 3, 4], [1, 2, 3, 4])"
      ]
     },
     "execution_count": 11,
     "metadata": {},
     "output_type": "execute_result"
    }
   ],
   "source": [
    "resp_prefs = [[1, 2, 3, 4], [3, 2, 1, 4], [1, 2, 4, 3], [4, 1, 3, 2]]\n",
    "prop_prefs = [[1, 2, 3, 4], [2, 1, 4, 3], [3, 2, 1, 4], [1, 4, 3, 2]]\n",
    "prop_matched, resp_matched = my_deferred_acceptance(prop_prefs, resp_prefs)"
   ]
  },
  {
   "cell_type": "code",
   "execution_count": 12,
   "metadata": {
    "collapsed": true
   },
   "outputs": [],
   "source": [
    "m = length(prop_prefs)\n",
    "prop_uf = Vector{Int64}(m)\n",
    "n = length(resp_prefs)\n",
    "resp_uf = Vector{Int64}(n)\n",
    "\n",
    "c = 1\n",
    "while c <= length(prop_prefs)\n",
    "    if prop_matched[c] == 0\n",
    "        prop_uf[c] = length(prop_prefs[c])+1\n",
    "    else\n",
    "        prop_uf[c] = findfirst(prop_prefs[c], prop_matched[c])\n",
    "    end\n",
    "    c += 1\n",
    "end\n",
    "\n",
    "d = 1\n",
    "while d <= length(resp_prefs)\n",
    "    if resp_matched[d] == 0\n",
    "        resp_uf[d] = length(resp_prefs[d])+1\n",
    "    else\n",
    "        resp_uf[d] = findfirst(resp_prefs[d], resp_matched[d])\n",
    "    end\n",
    "    d += 1\n",
    "end"
   ]
  },
  {
   "cell_type": "code",
   "execution_count": 13,
   "metadata": {},
   "outputs": [
    {
     "data": {
      "text/plain": [
       "5"
      ]
     },
     "execution_count": 13,
     "metadata": {},
     "output_type": "execute_result"
    }
   ],
   "source": [
    "sum(prop_uf[1:end])"
   ]
  },
  {
   "cell_type": "code",
   "execution_count": 14,
   "metadata": {},
   "outputs": [
    {
     "data": {
      "text/plain": [
       "8"
      ]
     },
     "execution_count": 14,
     "metadata": {},
     "output_type": "execute_result"
    }
   ],
   "source": [
    "sum(resp_uf[1:end])"
   ]
  },
  {
   "cell_type": "markdown",
   "metadata": {},
   "source": [
    "となり、男側の不幸度の合計は8、女側の不幸度の合計は5、全体としての不幸度は13である。\n",
    "\n",
    "従って、提案の入れ替えにより、男側の不幸度が増加し女側の不幸度は減少している。\n",
    "\n",
    "つまり、提案する側にとってのみ最適なマッチングとなっている。\n",
    "\n",
    "また、社会的によいマッチングを全体としての不幸度が小さい方であるとすると、女側が提案した時の方が社会的によいことになる。"
   ]
  },
  {
   "cell_type": "markdown",
   "metadata": {},
   "source": [
    "マッチングしない人がいるような例も考えてみる。"
   ]
  },
  {
   "cell_type": "code",
   "execution_count": 15,
   "metadata": {},
   "outputs": [
    {
     "data": {
      "text/plain": [
       "([1, 3, 2, 0], [1, 3, 2])"
      ]
     },
     "execution_count": 15,
     "metadata": {},
     "output_type": "execute_result"
    }
   ],
   "source": [
    "# 例-03\n",
    "prop_prefs = [[1, 2, 3], [3, 2, 1], [1, 2, 3], [1, 3, 2]]\n",
    "resp_prefs = [[1, 2, 3, 4], [2, 1, 3, 4], [3, 2, 1, 4]]\n",
    "prop_matched, resp_matched = my_deferred_acceptance(prop_prefs, resp_prefs)"
   ]
  },
  {
   "cell_type": "code",
   "execution_count": 16,
   "metadata": {
    "collapsed": true
   },
   "outputs": [],
   "source": [
    "m = length(prop_prefs)\n",
    "prop_uf = Vector{Int64}(m)\n",
    "n = length(resp_prefs)\n",
    "resp_uf = Vector{Int64}(n)\n",
    "\n",
    "c = 1\n",
    "while c <= length(prop_prefs)\n",
    "    if prop_matched[c] == 0\n",
    "        prop_uf[c] = length(prop_prefs[c])+1\n",
    "    else\n",
    "        prop_uf[c] = findfirst(prop_prefs[c], prop_matched[c])\n",
    "    end\n",
    "    c += 1\n",
    "end\n",
    "\n",
    "d = 1\n",
    "while d <= length(resp_prefs)\n",
    "    if resp_matched[d] == 0\n",
    "        resp_uf[d] = length(resp_prefs[d])+1\n",
    "    else\n",
    "        resp_uf[d] = findfirst(resp_prefs[d], resp_matched[d])\n",
    "    end\n",
    "    d += 1\n",
    "end"
   ]
  },
  {
   "cell_type": "code",
   "execution_count": 17,
   "metadata": {},
   "outputs": [
    {
     "data": {
      "text/plain": [
       "8"
      ]
     },
     "execution_count": 17,
     "metadata": {},
     "output_type": "execute_result"
    }
   ],
   "source": [
    "sum(prop_uf[1:end])"
   ]
  },
  {
   "cell_type": "code",
   "execution_count": 18,
   "metadata": {},
   "outputs": [
    {
     "data": {
      "text/plain": [
       "6"
      ]
     },
     "execution_count": 18,
     "metadata": {},
     "output_type": "execute_result"
    }
   ],
   "source": [
    "sum(resp_uf[1:end])"
   ]
  },
  {
   "cell_type": "code",
   "execution_count": 19,
   "metadata": {},
   "outputs": [
    {
     "data": {
      "text/plain": [
       "([1, 2, 3], [1, 2, 3, 0])"
      ]
     },
     "execution_count": 19,
     "metadata": {},
     "output_type": "execute_result"
    }
   ],
   "source": [
    "resp_prefs = [[1, 2, 3], [3, 2, 1], [1, 2, 3], [1, 3, 2]]\n",
    "prop_prefs = [[1, 2, 3, 4], [2, 1, 3, 4], [3, 2, 1, 4]]\n",
    "prop_matched, resp_matched = my_deferred_acceptance(prop_prefs, resp_prefs)"
   ]
  },
  {
   "cell_type": "code",
   "execution_count": 20,
   "metadata": {
    "collapsed": true
   },
   "outputs": [],
   "source": [
    "m = length(prop_prefs)\n",
    "prop_uf = Vector{Int64}(m)\n",
    "n = length(resp_prefs)\n",
    "resp_uf = Vector{Int64}(n)\n",
    "\n",
    "c = 1\n",
    "while c <= length(prop_prefs)\n",
    "    if prop_matched[c] == 0\n",
    "        prop_uf[c] = length(prop_prefs[c])+1\n",
    "    else\n",
    "        prop_uf[c] = findfirst(prop_prefs[c], prop_matched[c])\n",
    "    end\n",
    "    c += 1\n",
    "end\n",
    "\n",
    "d = 1\n",
    "while d <= length(resp_prefs)\n",
    "    if resp_matched[d] == 0\n",
    "        resp_uf[d] = length(resp_prefs[d])+1\n",
    "    else\n",
    "        resp_uf[d] = findfirst(resp_prefs[d], resp_matched[d])\n",
    "    end\n",
    "    d += 1\n",
    "end"
   ]
  },
  {
   "cell_type": "code",
   "execution_count": 21,
   "metadata": {},
   "outputs": [
    {
     "data": {
      "text/plain": [
       "3"
      ]
     },
     "execution_count": 21,
     "metadata": {},
     "output_type": "execute_result"
    }
   ],
   "source": [
    "sum(prop_uf[1:end])"
   ]
  },
  {
   "cell_type": "code",
   "execution_count": 22,
   "metadata": {},
   "outputs": [
    {
     "data": {
      "text/plain": [
       "10"
      ]
     },
     "execution_count": 22,
     "metadata": {},
     "output_type": "execute_result"
    }
   ],
   "source": [
    "sum(resp_uf[1:end])"
   ]
  },
  {
   "cell_type": "markdown",
   "metadata": {},
   "source": [
    "となり、男側が提案した場合、男側の不幸度の合計は8、女側の不幸度の合計は6、全体としての不幸度は14である。\n",
    "\n",
    "一方、提案を入れ替えた場合、男側の不幸度の合計は10、女側の不幸度の合計は3、全体としての不幸度は13である。\n",
    "\n",
    "従って、やはり提案の入れ替えにより、男側の不幸度が増加し女側の不幸度は減少している。\n",
    "\n",
    "また、社会的によいマッチングは、女側が提案した時である。"
   ]
  },
  {
   "cell_type": "markdown",
   "metadata": {
    "collapsed": true
   },
   "source": [
    "では、以下では社会的によいマッチングを考える。\n",
    "\n",
    "簡単のため、全員がマッチングするような例を考える。\n",
    "\n",
    "あるprop_matchedが与えられた時の全体としての不幸度を求める。"
   ]
  },
  {
   "cell_type": "code",
   "execution_count": 23,
   "metadata": {},
   "outputs": [
    {
     "data": {
      "text/plain": [
       "4-element Array{Array{Int64,1},1}:\n",
       " [1, 2, 3, 4]\n",
       " [2, 1, 4, 3]\n",
       " [3, 2, 1, 4]\n",
       " [1, 4, 3, 2]"
      ]
     },
     "execution_count": 23,
     "metadata": {},
     "output_type": "execute_result"
    }
   ],
   "source": [
    "# 例-02\n",
    "prop_prefs = [[1, 2, 3, 4], [3, 2, 1, 4], [1, 2, 4, 3], [4, 1, 3, 2]]\n",
    "resp_prefs = [[1, 2, 3, 4], [2, 1, 4, 3], [3, 2, 1, 4], [1, 4, 3, 2]]"
   ]
  },
  {
   "cell_type": "code",
   "execution_count": 24,
   "metadata": {},
   "outputs": [
    {
     "data": {
      "text/plain": [
       "UNF (generic function with 1 method)"
      ]
     },
     "execution_count": 24,
     "metadata": {},
     "output_type": "execute_result"
    }
   ],
   "source": [
    "function UNF(prop_prefs, resp_prefs, prop_matched)\n",
    "    m = length(prop_matched)\n",
    "    resp_matched = Vector{Int64}(m)\n",
    "    for i in 1:m\n",
    "        resp_matched[i] = findfirst(prop_matched, i)\n",
    "    end\n",
    "    prop_uf = Vector{Int64}(m)\n",
    "    resp_uf = Vector{Int64}(m)\n",
    "\n",
    "    c = 1\n",
    "    while c <= length(prop_prefs)\n",
    "        prop_uf[c] = findfirst(prop_prefs[c], prop_matched[c])\n",
    "        c += 1\n",
    "    end\n",
    "\n",
    "    d = 1\n",
    "    while d <= length(resp_prefs)\n",
    "        resp_uf[d] = findfirst(resp_prefs[d], resp_matched[d])\n",
    "        d += 1\n",
    "    end\n",
    "    return sum(prop_uf[1:end]) + sum(resp_uf[1:end])\n",
    "end"
   ]
  },
  {
   "cell_type": "markdown",
   "metadata": {},
   "source": [
    "例えば、prop_matched = [1, 2, 3, 4]の時は、"
   ]
  },
  {
   "cell_type": "code",
   "execution_count": 25,
   "metadata": {},
   "outputs": [
    {
     "data": {
      "text/plain": [
       "4-element Array{Int64,1}:\n",
       " 1\n",
       " 2\n",
       " 3\n",
       " 4"
      ]
     },
     "execution_count": 25,
     "metadata": {},
     "output_type": "execute_result"
    }
   ],
   "source": [
    "prop_matched = [1, 2, 3, 4]"
   ]
  },
  {
   "cell_type": "code",
   "execution_count": 26,
   "metadata": {},
   "outputs": [
    {
     "data": {
      "text/plain": [
       "13"
      ]
     },
     "execution_count": 26,
     "metadata": {},
     "output_type": "execute_result"
    }
   ],
   "source": [
    "UNF(prop_prefs, resp_prefs, prop_matched)"
   ]
  },
  {
   "cell_type": "markdown",
   "metadata": {},
   "source": [
    "と求まる。"
   ]
  },
  {
   "cell_type": "markdown",
   "metadata": {
    "collapsed": true
   },
   "source": [
    "そこで、1対1の場合の最適なマッチングを、提案を入れ替えて社会的によい方のマッチングとする。\n",
    "\n",
    "そのような関数を作ることを以下では考える。"
   ]
  },
  {
   "cell_type": "code",
   "execution_count": 27,
   "metadata": {},
   "outputs": [
    {
     "data": {
      "text/plain": [
       "my_DA_1 (generic function with 1 method)"
      ]
     },
     "execution_count": 27,
     "metadata": {},
     "output_type": "execute_result"
    }
   ],
   "source": [
    "function my_DA_1(prop_prefs, resp_prefs)\n",
    "    prop_matched, resp_matched = my_deferred_acceptance(prop_prefs, resp_prefs)\n",
    "    k = UNF(prop_prefs, resp_prefs, prop_matched)\n",
    "    prop_matched, resp_matched = my_deferred_acceptance(resp_prefs, prop_prefs)\n",
    "    l = UNF(prop_prefs, resp_prefs, prop_matched)\n",
    "    if k < l\n",
    "        return prop_matched, resp_matched = my_deferred_acceptance(prop_prefs, resp_prefs)\n",
    "    end\n",
    "    if l <= k\n",
    "        return prop_matched, resp_matched = my_deferred_acceptance(resp_prefs, prop_prefs)\n",
    "    end\n",
    "end"
   ]
  },
  {
   "cell_type": "code",
   "execution_count": 28,
   "metadata": {},
   "outputs": [
    {
     "data": {
      "text/plain": [
       "([1, 2, 3, 4], [1, 2, 3, 4])"
      ]
     },
     "execution_count": 28,
     "metadata": {},
     "output_type": "execute_result"
    }
   ],
   "source": [
    "# 例-02\n",
    "prop_prefs = [[1, 2, 3, 4], [3, 2, 1, 4], [1, 2, 4, 3], [4, 1, 3, 2]]\n",
    "resp_prefs = [[1, 2, 3, 4], [2, 1, 4, 3], [3, 2, 1, 4], [1, 4, 3, 2]]\n",
    "my_DA_1(prop_prefs, resp_prefs)"
   ]
  },
  {
   "cell_type": "markdown",
   "metadata": {},
   "source": [
    "となり、確かに社会的によいマッチングとなっている。"
   ]
  }
 ],
 "metadata": {
  "kernelspec": {
   "display_name": "Julia 0.6.0",
   "language": "julia",
   "name": "julia-0.6"
  },
  "language_info": {
   "file_extension": ".jl",
   "mimetype": "application/julia",
   "name": "julia",
   "version": "0.6.0"
  }
 },
 "nbformat": 4,
 "nbformat_minor": 2
}
